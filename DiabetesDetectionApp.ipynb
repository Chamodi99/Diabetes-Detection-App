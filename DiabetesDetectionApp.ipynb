{
 "cells": [
  {
   "cell_type": "markdown",
   "id": "0e2e5a89",
   "metadata": {},
   "source": [
    "# Diabetes Detection App"
   ]
  },
  {
   "cell_type": "code",
   "execution_count": 89,
   "id": "c124e671",
   "metadata": {
    "scrolled": false
   },
   "outputs": [],
   "source": [
    "# import pip\n",
    "# pip.main([\"install\",\"streamlit\"])\n",
    "# pip.main([\"install\",\"PIL\"])"
   ]
  },
  {
   "cell_type": "code",
   "execution_count": 90,
   "id": "9f810f10",
   "metadata": {
    "scrolled": true
   },
   "outputs": [],
   "source": [
    "# !pip install Pillow"
   ]
  },
  {
   "cell_type": "code",
   "execution_count": 91,
   "id": "6587a4c6",
   "metadata": {},
   "outputs": [],
   "source": [
    "import streamlit as st\n",
    "from PIL import Image\n",
    "import pandas as pd\n",
    "from sklearn.model_selection import train_test_split\n",
    "from sklearn.ensemble import RandomForestClassifier\n",
    "from sklearn.metrics import accuracy_score"
   ]
  },
  {
   "cell_type": "code",
   "execution_count": 92,
   "id": "15e7788b",
   "metadata": {},
   "outputs": [
    {
     "data": {
      "text/plain": [
       "DeltaGenerator()"
      ]
     },
     "execution_count": 92,
     "metadata": {},
     "output_type": "execute_result"
    }
   ],
   "source": [
    "st.header(\"Diabetes Detection App\")"
   ]
  },
  {
   "cell_type": "code",
   "execution_count": 93,
   "id": "280b3e63",
   "metadata": {},
   "outputs": [],
   "source": [
    "image=Image.open(\"E:\\\\From Desktop\\\\Data Science\\\\DataScience Project\\\\diab.jpg\")"
   ]
  },
  {
   "cell_type": "code",
   "execution_count": 94,
   "id": "e5e02c9b",
   "metadata": {},
   "outputs": [
    {
     "data": {
      "text/plain": [
       "DeltaGenerator()"
      ]
     },
     "execution_count": 94,
     "metadata": {},
     "output_type": "execute_result"
    }
   ],
   "source": [
    "st.image(image)"
   ]
  },
  {
   "cell_type": "code",
   "execution_count": 95,
   "id": "7608afcb",
   "metadata": {},
   "outputs": [],
   "source": [
    "data=pd.read_csv(\"E:\\\\From Desktop\\\\Data Science\\\\DataScience Project\\\\diabetes.csv\")"
   ]
  },
  {
   "cell_type": "code",
   "execution_count": 96,
   "id": "bd2e99f0",
   "metadata": {},
   "outputs": [
    {
     "data": {
      "text/html": [
       "<div>\n",
       "<style scoped>\n",
       "    .dataframe tbody tr th:only-of-type {\n",
       "        vertical-align: middle;\n",
       "    }\n",
       "\n",
       "    .dataframe tbody tr th {\n",
       "        vertical-align: top;\n",
       "    }\n",
       "\n",
       "    .dataframe thead th {\n",
       "        text-align: right;\n",
       "    }\n",
       "</style>\n",
       "<table border=\"1\" class=\"dataframe\">\n",
       "  <thead>\n",
       "    <tr style=\"text-align: right;\">\n",
       "      <th></th>\n",
       "      <th>Pregnancies</th>\n",
       "      <th>Glucose</th>\n",
       "      <th>BloodPressure</th>\n",
       "      <th>SkinThickness</th>\n",
       "      <th>Insulin</th>\n",
       "      <th>BMI</th>\n",
       "      <th>DiabetesPedigreeFunction</th>\n",
       "      <th>Age</th>\n",
       "      <th>Outcome</th>\n",
       "    </tr>\n",
       "  </thead>\n",
       "  <tbody>\n",
       "    <tr>\n",
       "      <th>0</th>\n",
       "      <td>6</td>\n",
       "      <td>148</td>\n",
       "      <td>72</td>\n",
       "      <td>35</td>\n",
       "      <td>0</td>\n",
       "      <td>33.6</td>\n",
       "      <td>0.627</td>\n",
       "      <td>50</td>\n",
       "      <td>1</td>\n",
       "    </tr>\n",
       "    <tr>\n",
       "      <th>1</th>\n",
       "      <td>1</td>\n",
       "      <td>85</td>\n",
       "      <td>66</td>\n",
       "      <td>29</td>\n",
       "      <td>0</td>\n",
       "      <td>26.6</td>\n",
       "      <td>0.351</td>\n",
       "      <td>31</td>\n",
       "      <td>0</td>\n",
       "    </tr>\n",
       "    <tr>\n",
       "      <th>2</th>\n",
       "      <td>8</td>\n",
       "      <td>183</td>\n",
       "      <td>64</td>\n",
       "      <td>0</td>\n",
       "      <td>0</td>\n",
       "      <td>23.3</td>\n",
       "      <td>0.672</td>\n",
       "      <td>32</td>\n",
       "      <td>1</td>\n",
       "    </tr>\n",
       "    <tr>\n",
       "      <th>3</th>\n",
       "      <td>1</td>\n",
       "      <td>89</td>\n",
       "      <td>66</td>\n",
       "      <td>23</td>\n",
       "      <td>94</td>\n",
       "      <td>28.1</td>\n",
       "      <td>0.167</td>\n",
       "      <td>21</td>\n",
       "      <td>0</td>\n",
       "    </tr>\n",
       "    <tr>\n",
       "      <th>4</th>\n",
       "      <td>0</td>\n",
       "      <td>137</td>\n",
       "      <td>40</td>\n",
       "      <td>35</td>\n",
       "      <td>168</td>\n",
       "      <td>43.1</td>\n",
       "      <td>2.288</td>\n",
       "      <td>33</td>\n",
       "      <td>1</td>\n",
       "    </tr>\n",
       "  </tbody>\n",
       "</table>\n",
       "</div>"
      ],
      "text/plain": [
       "   Pregnancies  Glucose  BloodPressure  SkinThickness  Insulin   BMI  \\\n",
       "0            6      148             72             35        0  33.6   \n",
       "1            1       85             66             29        0  26.6   \n",
       "2            8      183             64              0        0  23.3   \n",
       "3            1       89             66             23       94  28.1   \n",
       "4            0      137             40             35      168  43.1   \n",
       "\n",
       "   DiabetesPedigreeFunction  Age  Outcome  \n",
       "0                     0.627   50        1  \n",
       "1                     0.351   31        0  \n",
       "2                     0.672   32        1  \n",
       "3                     0.167   21        0  \n",
       "4                     2.288   33        1  "
      ]
     },
     "execution_count": 96,
     "metadata": {},
     "output_type": "execute_result"
    }
   ],
   "source": [
    "data.head()"
   ]
  },
  {
   "cell_type": "code",
   "execution_count": 97,
   "id": "7d2f372a",
   "metadata": {},
   "outputs": [],
   "source": [
    "#st.subheader(\"Data\")"
   ]
  },
  {
   "cell_type": "code",
   "execution_count": 98,
   "id": "2c728f74",
   "metadata": {},
   "outputs": [],
   "source": [
    "#st.dataframe(data)"
   ]
  },
  {
   "cell_type": "code",
   "execution_count": 99,
   "id": "a77a063f",
   "metadata": {},
   "outputs": [],
   "source": [
    "#st.subheader(\"Data Description\")"
   ]
  },
  {
   "cell_type": "code",
   "execution_count": 100,
   "id": "18bf1f47",
   "metadata": {},
   "outputs": [],
   "source": [
    "#st.write(data.iloc[:,:8].describe())"
   ]
  },
  {
   "cell_type": "code",
   "execution_count": null,
   "id": "586885ad",
   "metadata": {},
   "outputs": [],
   "source": []
  },
  {
   "cell_type": "markdown",
   "id": "3ef62059",
   "metadata": {},
   "source": [
    "Machine Learning part"
   ]
  },
  {
   "cell_type": "code",
   "execution_count": 101,
   "id": "73bf7645",
   "metadata": {},
   "outputs": [],
   "source": [
    "x=data.iloc[:,:8].values\n",
    "y=data.iloc[:,8].values"
   ]
  },
  {
   "cell_type": "code",
   "execution_count": 102,
   "id": "620597ab",
   "metadata": {},
   "outputs": [],
   "source": [
    "x_train,x_test,y_train,y_test=train_test_split(x,y,test_size=0.2,random_state=0)"
   ]
  },
  {
   "cell_type": "code",
   "execution_count": 103,
   "id": "24a2c574",
   "metadata": {},
   "outputs": [],
   "source": [
    "model=RandomForestClassifier(n_estimators=500)"
   ]
  },
  {
   "cell_type": "code",
   "execution_count": 104,
   "id": "8cf209c1",
   "metadata": {},
   "outputs": [
    {
     "data": {
      "text/plain": [
       "RandomForestClassifier(n_estimators=500)"
      ]
     },
     "execution_count": 104,
     "metadata": {},
     "output_type": "execute_result"
    }
   ],
   "source": [
    "model.fit(x_train,y_train)"
   ]
  },
  {
   "cell_type": "code",
   "execution_count": 105,
   "id": "22032a1e",
   "metadata": {},
   "outputs": [],
   "source": [
    "y_pred=model.predict(x_test)"
   ]
  },
  {
   "cell_type": "code",
   "execution_count": 106,
   "id": "62997f98",
   "metadata": {},
   "outputs": [],
   "source": [
    "#st.subheader(\"Accuracy of train model\")"
   ]
  },
  {
   "cell_type": "code",
   "execution_count": 107,
   "id": "1b2cad51",
   "metadata": {},
   "outputs": [],
   "source": [
    "#st.write(accuracy_score(y_test,y_pred))"
   ]
  },
  {
   "cell_type": "code",
   "execution_count": null,
   "id": "985208d3",
   "metadata": {},
   "outputs": [],
   "source": []
  },
  {
   "cell_type": "markdown",
   "id": "8e69222f",
   "metadata": {},
   "source": [
    "text box "
   ]
  },
  {
   "cell_type": "code",
   "execution_count": 108,
   "id": "f5dcb2c2",
   "metadata": {},
   "outputs": [],
   "source": [
    "# st.text_input(label=\"Enter your age: \")"
   ]
  },
  {
   "cell_type": "code",
   "execution_count": 109,
   "id": "7e249fce",
   "metadata": {},
   "outputs": [],
   "source": [
    "# st.text_area(label=\"Describe you\")"
   ]
  },
  {
   "cell_type": "code",
   "execution_count": 110,
   "id": "2fefe551",
   "metadata": {},
   "outputs": [],
   "source": [
    "# st.slider(\"Set your age\",0,100,0)"
   ]
  },
  {
   "cell_type": "code",
   "execution_count": null,
   "id": "10edab5e",
   "metadata": {},
   "outputs": [],
   "source": []
  },
  {
   "cell_type": "code",
   "execution_count": 111,
   "id": "e170f5a3",
   "metadata": {},
   "outputs": [
    {
     "data": {
      "text/plain": [
       "DeltaGenerator()"
      ]
     },
     "execution_count": 111,
     "metadata": {},
     "output_type": "execute_result"
    }
   ],
   "source": [
    "st.subheader(\"Enter Your Input Data\")"
   ]
  },
  {
   "cell_type": "code",
   "execution_count": 112,
   "id": "7901c986",
   "metadata": {},
   "outputs": [],
   "source": [
    "def user_inputs():\n",
    "    preg=st.slider(\"Pregnancy\",0,20,0)\n",
    "    glu=st.slider(\"Glucose\",0,200,0)\n",
    "    blpre=st.slider(\"Blood Pressure\",0,130,0)\n",
    "    skinth=st.slider(\"Skin Thickness\",0,100,0)\n",
    "    ins=st.slider(\"Insulin\",0.0,1000.0,0.0)\n",
    "    bmi=st.slider(\"BMI\",0.0,70.0,0.0)\n",
    "    diabtest=st.slider(\"DPF\",0.000,3.000,0.0)\n",
    "    age=st.slider(\"Age\",0,100,0)\n",
    "\n",
    "    input_dict={\"Pregnancies\":preg,\n",
    "                \"Glucose\":glu,\n",
    "                \"Blood Pressure\":blpre,\n",
    "                \"Skin Thickness\":skinth,\n",
    "                \"Insulin\":ins,\n",
    "                \"BMI\":bmi,\n",
    "                \"DPF\":diabtest,\n",
    "                \"Age\":age}\n",
    "    \n",
    "    return pd.DataFrame(input_dict,index=[\"User Input Values\"])"
   ]
  },
  {
   "cell_type": "code",
   "execution_count": 113,
   "id": "caa47d7c",
   "metadata": {},
   "outputs": [],
   "source": [
    "user_input=user_inputs()"
   ]
  },
  {
   "cell_type": "code",
   "execution_count": 114,
   "id": "6cea2599",
   "metadata": {},
   "outputs": [
    {
     "data": {
      "text/plain": [
       "DeltaGenerator()"
      ]
     },
     "execution_count": 114,
     "metadata": {},
     "output_type": "execute_result"
    }
   ],
   "source": [
    "st.subheader(\"Entered Input Data\")"
   ]
  },
  {
   "cell_type": "code",
   "execution_count": 115,
   "id": "5083d7dd",
   "metadata": {},
   "outputs": [],
   "source": [
    "st.write(user_input)"
   ]
  },
  {
   "cell_type": "code",
   "execution_count": 116,
   "id": "734a49ad",
   "metadata": {},
   "outputs": [
    {
     "data": {
      "text/plain": [
       "DeltaGenerator()"
      ]
     },
     "execution_count": 116,
     "metadata": {},
     "output_type": "execute_result"
    }
   ],
   "source": [
    "st.subheader(\"Predictions (0-Non Diabetes,1-Diabetes)\")"
   ]
  },
  {
   "cell_type": "code",
   "execution_count": 117,
   "id": "f037f4fa",
   "metadata": {},
   "outputs": [],
   "source": [
    "# st.write(model.predict(user_input))"
   ]
  },
  {
   "cell_type": "code",
   "execution_count": 118,
   "id": "80d0fc2a",
   "metadata": {},
   "outputs": [
    {
     "name": "stderr",
     "output_type": "stream",
     "text": [
      "C:\\Users\\acer\\anaconda3\\lib\\site-packages\\sklearn\\base.py:443: UserWarning: X has feature names, but RandomForestClassifier was fitted without feature names\n",
      "  warnings.warn(\n"
     ]
    }
   ],
   "source": [
    "st.write(model.predict(user_input))"
   ]
  }
 ],
 "metadata": {
  "kernelspec": {
   "display_name": "Python 3 (ipykernel)",
   "language": "python",
   "name": "python3"
  },
  "language_info": {
   "codemirror_mode": {
    "name": "ipython",
    "version": 3
   },
   "file_extension": ".py",
   "mimetype": "text/x-python",
   "name": "python",
   "nbconvert_exporter": "python",
   "pygments_lexer": "ipython3",
   "version": "3.9.13"
  }
 },
 "nbformat": 4,
 "nbformat_minor": 5
}
